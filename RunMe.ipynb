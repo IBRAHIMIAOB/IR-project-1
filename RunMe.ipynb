{
 "cells": [
  {
   "cell_type": "markdown",
   "metadata": {},
   "source": [
    "### Part 0: Data Formatting\n",
    "\n",
    "The objective is to extract data from the file `data.txt` and store it in a Python dictionary named `Data`. Each entry in the dictionary will have the following structure:\n",
    "\n",
    "- **Key**: An incrementing integer starting from `1`.\n",
    "- **Value**: A formatted string consisting of the following fields, joined by newline characters (`\\n`):\n",
    "  - `category`\n",
    "  - `authors`\n",
    "  - `headline`\n",
    "  - `short_description`\n",
    "  - `date`\n",
    "  - `link`\n"
   ]
  },
  {
   "cell_type": "code",
   "execution_count": 1,
   "metadata": {},
   "outputs": [],
   "source": [
    "from dataFormatting import FormatData\n",
    "Data =  FormatData()\n"
   ]
  },
  {
   "cell_type": "markdown",
   "metadata": {},
   "source": [
    "Part A : \n",
    "running create_index function and save in \"inverted_index\" \n",
    "\n"
   ]
  },
  {
   "cell_type": "code",
   "execution_count": 2,
   "metadata": {},
   "outputs": [],
   "source": [
    "from Indexing import create_index\n",
    "inverted_index = create_index(Data)"
   ]
  },
  {
   "cell_type": "markdown",
   "metadata": {},
   "source": [
    "Part B:\n",
    "We used the `eval()` function as our evaluation method.\n",
    "The `eval()` function can evaluate complex boolean expressions, including:\n",
    "- Parentheses for grouping operations\n",
    "- `&` for AND operations\n",
    "- Spaces, which are treated as OR operations\n",
    "\n",
    "This allows us to dynamically evaluate search queries with nested conditions and various boolean operations. "
   ]
  },
  {
   "cell_type": "markdown",
   "metadata": {},
   "source": [
    "part C : \n",
    "experiment and test boolean_search() using time lib "
   ]
  },
  {
   "cell_type": "code",
   "execution_count": 12,
   "metadata": {},
   "outputs": [
    {
     "name": "stdout",
     "output_type": "stream",
     "text": [
      "Error evaluating expression: invalid syntax (<string>, line 1)\n",
      "Time taken: 390700 ns\n"
     ]
    }
   ],
   "source": [
    "import time\n",
    "from boolean_search import boolean_search\n",
    "startingTime = time.perf_counter_ns()\n",
    "\n",
    "# Query Guidelines:\n",
    "# - Space \" \" will be considered as \"|\" (OR operation)\n",
    "# - To represent AND, use \"&\"\n",
    "# - Do not start or end the query with a space \" \"\n",
    "# - Avoid writing spaces before or after the \"&\" symbol\n",
    "# - Follow the same guidelines for parentheses \"()\"\n",
    "\n",
    "query = \"global&warming\"\n",
    "\n",
    "results = boolean_search(inverted_index, Data, query)\n",
    "\n",
    "# Display the time taken\n",
    "print(f\"Time taken: {time.perf_counter_ns() - startingTime} ns\")"
   ]
  },
  {
   "cell_type": "code",
   "execution_count": 13,
   "metadata": {},
   "outputs": [],
   "source": [
    "for result in results:\n",
    "    print(result , end=\"\\n\\n\\n\\n\")"
   ]
  }
 ],
 "metadata": {
  "kernelspec": {
   "display_name": "Python 3",
   "language": "python",
   "name": "python3"
  },
  "language_info": {
   "codemirror_mode": {
    "name": "ipython",
    "version": 3
   },
   "file_extension": ".py",
   "mimetype": "text/x-python",
   "name": "python",
   "nbconvert_exporter": "python",
   "pygments_lexer": "ipython3",
   "version": "3.11.8"
  }
 },
 "nbformat": 4,
 "nbformat_minor": 2
}
