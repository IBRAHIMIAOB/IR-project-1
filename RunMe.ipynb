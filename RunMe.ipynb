{
 "cells": [
  {
   "cell_type": "markdown",
   "metadata": {},
   "source": [
    "### Part 0: Data Formatting\n",
    "\n",
    "The objective is to extract data from the file `data.txt` and store it in a Python dictionary named `Data`. Each entry in the dictionary will have the following structure:\n",
    "\n",
    "- **Key**: An incrementing integer starting from `1`.\n",
    "- **Value**: A formatted string consisting of the following fields, joined by newline characters (`\\n`):\n",
    "  - `category`\n",
    "  - `authors`\n",
    "  - `headline`\n",
    "  - `short_description`\n",
    "  - `date`\n",
    "  - `link`\n"
   ]
  },
  {
   "cell_type": "code",
   "execution_count": 1,
   "metadata": {},
   "outputs": [],
   "source": [
    "from dataFormatting import FormatData\n",
    "Data =  FormatData()\n"
   ]
  },
  {
   "cell_type": "markdown",
   "metadata": {},
   "source": [
    "Part A : \n",
    "running create_index function and save in \"inverted_index\" \n",
    "\n"
   ]
  },
  {
   "cell_type": "code",
   "execution_count": 2,
   "metadata": {},
   "outputs": [],
   "source": [
    "from Indexing import create_index\n",
    "inverted_index = create_index(Data)"
   ]
  },
  {
   "cell_type": "markdown",
   "metadata": {},
   "source": [
    "Part B:\n",
    "We used the `eval()` function as our evaluation method.\n",
    "The `eval()` function can evaluate complex boolean expressions, including:\n",
    "- Parentheses for grouping operations\n",
    "- `&` for AND operations\n",
    "- Spaces, which are treated as OR operations\n",
    "\n",
    "This allows us to dynamically evaluate search queries with nested conditions and various boolean operations. "
   ]
  },
  {
   "cell_type": "markdown",
   "metadata": {},
   "source": [
    "part C : \n",
    "experiment and test boolean_search() using time lib "
   ]
  },
  {
   "cell_type": "code",
   "execution_count": 3,
   "metadata": {},
   "outputs": [
    {
     "name": "stdout",
     "output_type": "stream",
     "text": [
      "Time taken: 220700 ns\n"
     ]
    }
   ],
   "source": [
    "import time\n",
    "from boolean_search import boolean_search\n",
    "startingTime = time.perf_counter_ns()\n",
    "\n",
    "# Query Guidelines:\n",
    "# - Space \" \" will be considered as \"|\" (OR operation)\n",
    "# - To represent AND, use \"&\"\n",
    "# - Do not start or end the query with a space \" \"\n",
    "# - Avoid writing spaces before or after the \"&\" symbol\n",
    "# - Follow the same guidelines for parentheses \"()\"\n",
    "\n",
    "query = \"apple&samsung\"\n",
    "\n",
    "results = boolean_search(inverted_index, Data, query)\n",
    "\n",
    "# Display the time taken\n",
    "print(f\"Time taken: {time.perf_counter_ns() - startingTime} ns\")"
   ]
  },
  {
   "cell_type": "code",
   "execution_count": 4,
   "metadata": {},
   "outputs": [
    {
     "name": "stdout",
     "output_type": "stream",
     "text": [
      "BUSINESS \n",
      "Andrew Chung, Reuters \n",
      "Appeals Court Restores $120 Million Award To Apple In Patent Fight With Samsung \n",
      "The two companies will face off again next week at the Supreme Court. \n",
      "2016-10-07 \n",
      "https://www.huffingtonpost.com/entry/apple-samsung-fight_us_57f7df8ce4b068ecb5de047d\n",
      "\n",
      "\n",
      "\n",
      "TECH \n",
      "Reuters, Reuters \n",
      "Microsoft: Apple Samsung Lawsuit's Other Big Winner \n",
      "Some analysts are skeptical that Microsoft can produce a device that the mobile consumer will love. It remains to be seen \n",
      "2012-08-26 \n",
      "https://www.huffingtonpost.com/entry/microsoft-apple-samsung-lawsuit_us_5bb35630e4b0fa920b96a4d8\n",
      "\n",
      "\n",
      "\n",
      "TECH \n",
      "Cristian Farias \n",
      "Supreme Court Seems Skeptical Samsung Should Pay Apple $400 Million Over iPhone Patent \n",
      "The justices may allow a jury to recalculate how much the iPhone maker is really owed. \n",
      "2016-10-11 \n",
      "https://www.huffingtonpost.com/entry/supreme-court-apple-samsung-patent_us_57fc05c5e4b0b6a43034e049\n",
      "\n",
      "\n",
      "\n",
      "TECH \n",
      "Reuters, Reuters \n",
      "Apple-Samsung Lawsuit: Apple Targets 4 Additional Products \n",
      "NEW YORK (Reuters) - Seeking to capitalize on a major legal victory over its rival Samsung Electronics Ltd, Apple Inc has \n",
      "2012-09-01 \n",
      "https://www.huffingtonpost.com/entry/apple-targets-more-samsun_us_5bb35693e4b0fa920b96aa53\n",
      "\n",
      "\n",
      "\n",
      "TECH \n",
      "Reuters, Reuters \n",
      "Velvin Hogan, Foreman In Apple Samsung Case, Says Jury Didn't Want $1 Billion Verdict To Be 'Just A Slap On The Wrist' \n",
      "Apple's damages expert testified that Samsung earned margins of roughly 35.5 percent on the products at issue in the lawsuit \n",
      "2012-08-25 \n",
      "https://www.huffingtonpost.com/entry/velvin-hogan-foreman-apple-samsung_us_5bb35630e4b0fa920b96a4ae\n",
      "\n",
      "\n",
      "\n",
      "TECH \n",
      "Reuters, Reuters \n",
      "Google Isn't Going To Sue Samsung Like Apple \n",
      "The deal covers patents currently owned by the companies, as well as any filed in the next 10 years, the companies said in \n",
      "2014-01-26 \n",
      "https://www.huffingtonpost.com/entry/google-samsung-patent_us_5bb36e4ce4b0fa920b98a6d7\n",
      "\n",
      "\n",
      "\n",
      "TECH \n",
      "Cristian Farias \n",
      "Supreme Court Rules Samsung Won't Owe Apple $400 Million Over Patent Violations \n",
      "The justices sent the case back to a lower court to reassess the proper amount of damages. \n",
      "2016-12-06 \n",
      "https://www.huffingtonpost.com/entry/supreme-court-samsung-apple_us_5846d3cbe4b055b313993089\n",
      "\n",
      "\n",
      "\n",
      "TECH \n",
      "Reuters, Reuters \n",
      "Samsung: Apple Victory 'Not Final Word' \n",
      "SAN FRANCISCO (Reuters) - Samsung Electronics called a U.S. jury decision in favor of Apple Inc \"a loss for the American \n",
      "2012-08-25 \n",
      "https://www.huffingtonpost.com/entry/samsung-apple-not-final-word_us_5bb3562de4b0fa920b96a48a\n",
      "\n",
      "\n",
      "\n",
      "TECH \n",
      "  \n",
      "The Number That Shows Why Apple Is Suing Every Android Manufacturer In Sight \n",
      "The eyes of the technology world are focused on the epic patent struggle between Apple and Samsung - the latest iteration \n",
      "2012-08-12 \n",
      "https://www.huffingtonpost.comhttp://www.readwriteweb.com/mobile/2012/08/the-number-that-shows-why-apple-is-suing-every-android-manufacturer-in-sight.php\n",
      "\n",
      "\n",
      "\n"
     ]
    }
   ],
   "source": [
    "for result in results:\n",
    "    print(result , end=\"\\n\\n\\n\\n\")"
   ]
  }
 ],
 "metadata": {
  "kernelspec": {
   "display_name": "Python 3",
   "language": "python",
   "name": "python3"
  },
  "language_info": {
   "codemirror_mode": {
    "name": "ipython",
    "version": 3
   },
   "file_extension": ".py",
   "mimetype": "text/x-python",
   "name": "python",
   "nbconvert_exporter": "python",
   "pygments_lexer": "ipython3",
   "version": "3.11.8"
  }
 },
 "nbformat": 4,
 "nbformat_minor": 2
}
